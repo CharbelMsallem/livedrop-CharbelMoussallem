{
  "cells": [
    {
      "cell_type": "code",
      "execution_count": 1,
      "metadata": {
        "colab": {
          "base_uri": "https://localhost:8080/"
        },
        "id": "40PbIB6jIXXK",
        "outputId": "f5850bbb-704f-401e-8fc8-9c59f900c2bd"
      },
      "outputs": [
        {
          "name": "stdout",
          "output_type": "stream",
          "text": [
            "\u001b[2K   \u001b[90m━━━━━━━━━━━━━━━━━━━━━━━━━━━━━━━━━━━━━━━━\u001b[0m \u001b[32m31.4/31.4 MB\u001b[0m \u001b[31m45.0 MB/s\u001b[0m eta \u001b[36m0:00:00\u001b[0m\n",
            "\u001b[2K   \u001b[90m━━━━━━━━━━━━━━━━━━━━━━━━━━━━━━━━━━━━━━━━\u001b[0m \u001b[32m60.1/60.1 MB\u001b[0m \u001b[31m11.0 MB/s\u001b[0m eta \u001b[36m0:00:00\u001b[0m\n",
            "\u001b[?25h"
          ]
        }
      ],
      "source": [
        "# Cell 1: Install dependencies\n",
        "!pip -q install torch --index-url https://download.pytorch.org/whl/cu121\n",
        "!pip -q install transformers accelerate sentence-transformers faiss-cpu flask pyngrok bitsandbytes pyyaml"
      ]
    },
    {
      "cell_type": "code",
      "execution_count": 2,
      "metadata": {
        "id": "M1OPyOFCIiqA"
      },
      "outputs": [],
      "source": [
        "# Cell 2: Import libraries and setup\n",
        "import os\n",
        "import json\n",
        "from typing import List, Dict, Any, Tuple\n",
        "\n",
        "import faiss\n",
        "import numpy as np\n",
        "from sentence_transformers import SentenceTransformer\n",
        "from transformers import AutoTokenizer, AutoModelForCausalLM, pipeline, BitsAndBytesConfig\n",
        "import torch\n",
        "\n",
        "from flask import Flask, request, jsonify\n",
        "from pyngrok import ngrok\n",
        "from getpass import getpass\n",
        "import threading\n",
        "import time\n",
        "\n",
        "import requests\n",
        "import json"
      ]
    },
    {
      "cell_type": "code",
      "execution_count": 3,
      "metadata": {
        "id": "NsQbzW8WIxXK"
      },
      "outputs": [],
      "source": [
        "# Cell 3: Knowledge base data as python dictionaries\n",
        "KNOWLEDGE_BASE = [\n",
        "    {\n",
        "        \"title\": \"Document 1: User Registration and Account Management\",\n",
        "        \"content\": \"Creating a Shoplite account is the first step for buyers and sellers to access the platform's full range of features. Registration is designed to be quick, intuitive, and secure. Buyers can sign up with a valid email address, make a strong password, and optionally add a phone number for two-factor authentication. After they sign up, they get an email with a link to confirm their registration. They have 24 hours to click the link to finish the onboarding process.\\n\\nUsers can log in and go to their account dashboard to change their personal information, like their shipping address, saved payment methods, and communication preferences. Customers can also turn on notifications for sales, price drops, and updates on deliveries. Accounts support single sign-in (SSO) options through Google and Apple IDs for convenience. This makes it easy to get to access an account without having to enter any credentials over and over again.\\n\\nFor sellers to register on Shoplite, they must provide registered business proof, a valid tax ID, and bank account details, with verification typically taking two to three business days. Once approved, they can create sub-accounts for employees with role-based permissions. Shoplite ensures security with hashed passwords (SHA-256), JWT-based authentication, and temporary account locks after multiple failed login attempts. Developers using the Shoplite API for authentication must follow OAuth2.0 standards, utilizing refresh tokens for secure access.\\n\\nAccount recovery is also prioritized. Users who forget their passwords can reset them through an emailed recovery link that remains valid for only 15 minutes. For enhanced protection, recovery requests are logged and monitored by Shoplite's fraud detection system.\\n\\nBy balancing ease of use with robust safeguards, Shoplite ensures that account registration and management provide a seamless yet secure experience for all users.\",\n",
        "        \"id\": \"doc1\"\n",
        "    },\n",
        "    {\n",
        "        \"title\": \"Document 2: Product Search and Filtering Features\",\n",
        "        \"content\": \"The Shoplite search system makes it easy for customers to find the items they need from a large selection of items sold by many different vendors. The platform's main feature is a powerful keyword-based search bar that can handle both natural language queries and exact phrases. For instance, if a customer types \\\"running shoes under $100,\\\" they will get results that fit their price and category filters right away. As users type, auto-suggestions show up thanks to predictive text algorithms that look at popular searches and the user's own browsing history.\\n\\nFiltering options let shoppers have full control over the results of their searches. Price range, product category, brand, seller rating, shipping speed, and stock availability are all examples of core filters. Extra advanced filters make it easy to find \\\"Shoplite Verified Sellers,\\\" eco-friendly products, or items that can be delivered the same day. Results can be sorted by how relevant they are, how low the price is, how high the rating is, or how new they are. A comparison tool displays several items next to each other, which helps making an informed choice without leaving the search results page.\\n\\nThe technical architecture of Shoplite's search engine utilizes Elasticsearch for real-time indexing of product data, applying Boolean filters to streamline searches. Caching mechanisms allow rapid retrieval of frequently searched terms, even under high traffic, while machine learning enhances personalized recommendations. Developers can enhance functionality through Shoplite's API at the `/products/search` endpoint, which supports keyword and filter parameters, returning JSON results suitable for integration. Rate limits maintain system stability, with support for bulk operations via pagination tokens.\\n\\nFrom a customer perspective, these tools make finding products efficient and enjoyable. From a technical perspective, the modular search and filter system guarantees scalability as Shoplite continues to expand its product ecosystem, ensuring that both end-users and developers benefit from a robust, future-ready infrastructure.\",\n",
        "        \"id\": \"doc2\"\n",
        "    },\n",
        "    {\n",
        "        \"title\": \"Document 3: Shopping Cart and Checkout Process\",\n",
        "        \"content\": \"The Shoplite shopping cart is built to handle multi-seller transactions, making it possible for customers to add products from different vendors into a single order. Items can be added, removed, or saved for later, and quantity adjustments automatically recalculate totals in real time. Promotional codes, loyalty discounts, and shipping fees are also applied directly in the cart view to give users full price transparency before checkout.\\n\\nThere are three main steps in the checkout process: picking a shipping address and delivery method, picking a payment method, and confirming the order summary. Customers can choose between standard, express, or same-day delivery if it's available. Shoplite accepts cards, wallets, and regional payment methods. When the order is confirmed, it creates a unique ID and sends notifications to both the customer and the seller.\\n\\nTechnically, Checkout is powered by a microservices achitechture. The Cart Service keeps track of items and discounts, the Payment Service handles safe transactions, and the Order Service completes the purchase by adding it to Shoplite's order database. APIs also allow for external integrations; third-party systems can sign up for webhooks to get real-time updates on order confirmation and payment status.\\n\\nThe shopping cart and checkout process make it easy for customers to finish their purchases with as little trouble as possible while giving sellers accurate, up-to-date order information.\",\n",
        "        \"id\": \"doc3\"\n",
        "    },\n",
        "    {\n",
        "        \"title\": \"Document 4: Payment Methods and Security\",\n",
        "        \"content\": \"Shoplite accepts a variety of payment methods to meet the needs of customers around the world. These include major credit and debit cards, PayPal, Apple Pay, Google Pay, regional e-wallets, and cash on delivery in some markets. PCI DSS-compliant providers encrypt and tokenise sensitive data so that customers can safely save their payment information for faster checkouts in the future.\\n\\nShoplite's AI-powered fraud detection system flags any suspicious activity, and all transactions are protected by TLS 1.3 encryption. Two-factor authentication may be needed for high-value orders, which adds an extra step to the verification process.\\n\\nShoplite gives developers RESTful payment APIs that use OAuth2.0 for authorisation. Every request for a transaction is checked, logged, and given a unique reference number for auditing. When a transaction fails, it gives detailed error codes that tell both customers and developers how to fix the problem.\\n\\nShoplite lowers the number of people who leave their carts by offering easy-to-use payment options and enterprise-level security. This builds trust between buyers and sellers.\",\n",
        "        \"id\": \"doc4\"\n",
        "    },\n",
        "    {\n",
        "        \"title\": \"Document 5: Order Tracking and Delivery\",\n",
        "        \"content\": \"Customers get a unique tracking number and an estimated delivery time once their order is confirmed on Shoplite. There are six stages of order progress: processing, packaging, shipping, in transit, out for delivery, and delivery. Each stage sends automatic updates via email and mobile push notifications, so buyers don't have to keep checking the app to stay up to date.\\n\\nCustomers can view live status updates directly in their account dashboard. For convenience, delivery preferences such as \\\"leave at front desk\\\" or \\\"require signature\\\" can be set during checkout. Options range from standard shipping (3-7 business days) to premium express services, including same-day delivery in select urban areas. In-store pickup is also available where supported by sellers.\\n\\nOn the backend, Shoplite connects to many logistics partners through APIs that keep track of shipment status in real time. The platform's smart routing algorithm picks the best courier for each order based on location, weight, and delivery speed, as well as cost and reliability. If there are delays, the system automatically lets customers know and offers other solutions, like refunds or store credits.\\n\\nThe `/orders/{id}/tracking` endpoint gives developers programmatic access to tracking data in JSON format, which makes it possible to connect with custom dashboards or external CRMs. Bulk upload tools help sellers register shipment details right from the Seller Dashboard or through API calls.\\n\\nShoplite makes sure that customers receives transparency by providing real-time updates and flexible delivery options. Sellers benefit from a logistics ecosystem that is designed to cut down on mistakes and speed up delivery.\",\n",
        "        \"id\": \"doc5\"\n",
        "    },\n",
        "    {\n",
        "        \"title\": \"Document 6: Return and Refund Policies\",\n",
        "        \"content\": \"Shoplite offers a customer-friendly return framework to balance convenience with seller protection. Most products come with a 30-day return window, though exceptions apply for perishable, intimate, or customized items. Customers initiate returns through their dashboard by selecting the relevant order, choosing a reason from pre-defined categories, and generating a digital return authorization (RMA) slip. Prepaid shipping labels are provided for eligible returns.\\n\\nOnce the returned item passes inspection, refunds are usually processed within 7 to 10 business days. Refunds are sent back to the original source or given as Shoplite store credit, depending on how the payment was made. Customers are notified by email or push notifications at every step of the return process.\\n\\nSellers must follow Shoplite's return policy. If they don't honor returns or give refunds on time, they may face penalties, lower seller ratings, or even account suspension. Sellers can see how many returns they have and dispute false claims right from their dashboards.\\n\\nFrom a technical perspective, returns are managed by a dedicated Return Service that communicates with both the Order and Payment services to synchronize refund actions. API endpoints enable sellers to automate approval workflows, while customers benefit from clear status updates integrated into the mobile app and website.\\n\\nThis structured but flexible method makes sure everyone is treated fairly. Buyers can shop with confidence, knowing they are safe, and sellers can protect themselves from false or abusive return claims.\",\n",
        "        \"id\": \"doc6\"\n",
        "    },\n",
        "    {\n",
        "        \"title\": \"Document 7: Product Reviews and Ratings\",\n",
        "        \"content\": \"Product reviews and ratings on Shoplite play an essential role in building trust between buyers and sellers. Customers who have purchased and received a product are invited to leave feedback, ensuring that all reviews are verified and authentic. Reviews consist of a 1-5 star rating, optional written feedback, and the ability to upload images or short videos showcasing the product. This system allows future buyers to make informed decisions based on real experiences.\\n\\nShoplite's interface makes it easy to see reviews. Customers can sort reviews on each product page by rating, date, or \\\"most helpful.\\\" Products that get a lot of good reviews may get a \\\"Shoplite Recommended\\\" badge, which makes them show up first in search results and category listings. Sellers should respond to reviews in public to show that they care about service quality and to have an open conversation with their customers.\\n\\nShoplite uses automated moderation tools to find spam, bad language, and content that isn't relevant behind the scenes. Machine learning algorithms also look for patterns of fraud, like \\\"review bombing\\\" or sellers trying to change ratings with fake accounts. Reviews that look suspicious are flagged for human review, which makes sure that the system is fair and trustworthy.\\n\\nTechnically, there is a separate microservice that stores reviews in their own database so that they can be indexed and retrieved quickly. Developers can use APIs to pull reviews into outside dashboards or CRM systems so they can be analysed. To make sure that the reviews are real, each one has a timestamp, is connected to a specific order ID, and can't be changed after it is submitted.\\n\\nShoplite makes sure that reviews are useful for both buyers and sellers by making the site open, safe, and easy to use. This keeps the shopping environment safe and maintained.\",\n",
        "        \"id\": \"doc7\"\n",
        "    },\n",
        "    {\n",
        "        \"title\": \"Document 8: Seller Account Setup and Management\",\n",
        "        \"content\": \"Setting up an account for businesses that want to sell on Shoplite is meant to be both thorough and quick. The first step is to register, which means that sellers give their legal business information, a valid tax ID, and their banking information for payments. They need to upload supporting documents like trade licenses or certificates of incorporation so they can be checked. This process usually takes 2 to 3 business days. After that, approved sellers can use the Seller Dashboard fully.\\n\\nThe Seller Dashboard serves as the control center for managing all aspects of an online store. Sellers can upload product listings one at a time or all at once using CSV files or APIs. They can also set prices and start marketing campaigns. Shoplite lets owners set up sub-accounts for staff with limited access, like only managing the catalogue or helping customers. This is called role-based permissions.\\n\\nAt every step, safety comes first. Sellers get alerts when someone logs in from a new device or IP address. They can also turn on multi-factor authentication for extra security. Shoplite's compliance team also checks sellers from time to time to make sure they follow the rules of the platform, such as setting fair prices and giving accurate product descriptions.\\n\\nFrom a technical standpoint, Shoplite provides APIs for real-time synchronization with external ERP and inventory management systems. Sellers can automate stock updates, receive order notifications instantly, and pull sales performance reports for advanced analytics. All seller activities are logged for transparency and dispute resolution.\\n\\nBy offering a blend of flexibility, control, and accountability, Shoplite makes seller account management simple yet robust, ensuring businesses of all sizes can scale effectively while maintaining compliance and security.\",\n",
        "        \"id\": \"doc8\"\n",
        "    },\n",
        "    {\n",
        "        \"title\": \"Document 9: Inventory Management for Sellers\",\n",
        "        \"content\": \"Effective inventory management is critical for sellers on Shoplite, and the platform provides a set of tools to ensure products remain in stock and available to customers without overselling. Businesses can see live stock counts, track items by SKU or batch, and check the availability of their warehouses in real time through the Seller Dashboard. The system sends out low-stock alerts by email and through the dashboard, which helps sellers avoid missing out on sales.\\n\\nShoplite also lets sellers upload large amounts of inventory at once using CSV or JSON files. This makes it easier for sellers with big catalogues to update hundreds of products at once. Shoplite offers RESTful APIs like `/inventory/update` that keep stock levels in sync across platforms right away for businesses that use external warehouse or ERP systems. This reduces errors caused by manual input and ensures data consistency.\\n\\nShoplite's advanced features include demand forecasting, which looks at past sales speed and seasonal patterns to suggest the best times to restock. Sellers can filter inventory views by warehouse location, fulfilment type, or product category. This gives them a lot of control over their operations. When orders are placed, automatic stock deductions happen. This lowers the risk of overselling and makes sure that all sales channels are fair.\\n\\nFrom a technical standpoint, inventory data is stored in a dedicated service optimized for speed and reliability. Each transaction—whether a stock addition, deduction, or adjustment—is logged with timestamps for auditing. Sellers integrating with Shoplite APIs must authenticate via OAuth2, and rate limits are applied to prevent accidental system overloads during batch updates.\\n\\nBy combining automation, predictive analytics, and secure integrations, Shoplite's inventory management ensures sellers can scale their operations while maintaining accuracy and efficiency.\",\n",
        "        \"id\": \"doc9\"\n",
        "    },\n",
        "    {\n",
        "        \"title\": \"Document 10: Commission and Fee Structure\",\n",
        "        \"content\": \"Shoplite uses a clear commission-based model that makes sure sellers can make money while keeping the platform going. The percentage of commission fees depends on the category. For example, electronics usually have lower percentages (around 5%) because they have small margins. On the other hand, clothing, accessories, and lifestyle goods may have higher rates of up to 8-10%. Once a deal is done, these commissions are automatically taken out of the seller's payout.\\n\\nShoplite charges transaction fees for some payment gateways and optional listing fees for premium placement in search results or featured product slots in addition to commissions. Sellers can choose to join subscription tiers, which lower commission rates and give them access to benefits like better analytics dashboards, early access to promotional campaigns, and priority support.\\n\\nSellers can see a full breakdown of their fees in the Seller Dashboard. A Fee Statement is created for each order. It shows the sale price of the product, the commission charged, the transaction fees, and the net payout. This data can also be exported in CSV format or accessed through Shoplite's `/fees/report` API for integration into accounting software.\\n\\nFrom a technical perspective, all fee calculations are handled by a dedicated billing microservice that ensures accuracy and compliance. Each calculation is timestamped, auditable, and securely stored in Shoplite's financial database. Developers integrating with financial systems can use webhooks to automatically receive notifications about fee adjustments or monthly summaries.\\n\\nThis transparent, auditable structure allows sellers to plan their pricing strategies effectively while giving Shoplite the resources to continuously improve its ecosystem. By clearly outlining costs, the platform fosters trust and encourages long-term seller growth.\",\n",
        "        \"id\": \"doc10\"\n",
        "    },\n",
        "    {\n",
        "        \"title\": \"Document 11: Customer Support Procedures\",\n",
        "        \"content\": \"Shoplite is dedicated to providing fast and dependable customer service, making sure that both buyers and sellers get help when they need it. Support is available 24/7 through multiple channels: live chat, email, phone, and a self-service help center. Customers can open support tickets directly from their account dashboard, while sellers can escalate buyer disputes through the Seller Dashboard.\\n\\nAI-driven classifiers automatically sort tickets by looking at the type of problem, like delays in orders, payment mistakes, or requests for returns, and sending them to the right support team. Cases that are very important, like payment disputes or suspected fraud, are eascalated right away. Customers get a ticket ID that lets them see how their problem is being handled in real time.\\n\\nThe self-service help center provides FAQs, troubleshooting guides, and policy explanations, reducing dependency on live agents. Sellers can get more help, such as training materials on how to follow the rules, how to list products correctly, and how to settle disputes.\\n\\nFrom a technical standpoint, Shoplite's support system integrates with a ticketing microservice connected to both Order and Payment systems. This ensures that agents can access relevant transaction data without requiring manual verification. All support conversations are logged for compliance and quality assurance. Developers can also use the Support API to automatically create or update tickets from third-party applications, such as CRM tools.\\n\\nShoplite keeps track of response times, resolution times, and customer satisfaction scores (CSAT) to make sure the quality of service stays satisfactory. Feedback is gathered on a regular basis, and the information is used to make workflows more efficient. Shoplite's support system combines automation with human expertise to make sure that things run smoothly while still being personal.\",\n",
        "        \"id\": \"doc11\"\n",
        "    },\n",
        "    {\n",
        "        \"title\": \"Document 12: Mobile App Features\",\n",
        "        \"content\": \"The Shoplite mobile app has all the same features as the website, plus extra tools that make simpler to use on mobile devices. With just a few taps, shoppers can look through products, use filters, add items to their cart, and finish their purchases. Customers get updates on their orders, flash sales, and personalised recommendations through push notifications.\\n\\nOne of the best features in it is that it lets users quickly find products by scanning physical labels in stores. The app also supports biometric authentication, like Face ID and fingerprint login. This makes sure that accessing accounts or making payments is both easy and secure. Offline cart access allows users to save items without an internet connection, syncing automatically once online.\\n\\nSellers also benefit from mobile features, it lets them keep track on orders, change prices, and answer customer messages while they're on the go. Real-time performance analytics help sellers stay flexible when running their businesses.\\n\\nTechnically, the Shoplite mobile app is built using React Native, which ensures a consistent user experience across iOS and Android devices. It communicates with the same RESTful APIs as the web platform, meaning all data is synchronized instantly across devices. Developers can extend app functionality by integrating deep links, enabling direct navigation to product pages from marketing campaigns or external apps.\\n\\nBy combining usability, speed, and secure integrations, the Shoplite app offers a seamless shopping experience for buyers while giving sellers the flexibility to manage their businesses anytime, anywhere.\",\n",
        "        \"id\": \"doc12\"\n",
        "    },\n",
        "    {\n",
        "        \"title\": \"Document 13: API Documentation for Developers\",\n",
        "        \"content\": \"Shoplite has a strong developer portal that lets third-party systems, apps, and custom solutions work with the platform without any problems. The API suite is RESTful, and all of its endpoints use JSON payloads and are protected by OAuth2.0 authentication. This makes sure that external integrations are both safe and reliable.\\n\\nSome important API endpoints are:\\n`/products/search` lets developers add Shoplite's product search to other sites or apps. It works with keyword, category, and filter parameters.\\n`/inventory/update` lets sellers change the amount of stock they have in real time, which stops them from selling too much on more than one platform.\\n`/orders/{id}/tracking` provides detailed tracking information, like updates from the courier and estimates for when the package will be delivered.\\n`/fees/report` makes financial summaries to help with accounting and reconciliation.\\n\\nDevelopers benefit from sandbox environments where requests can be tested without affecting live transactions. To keep things stable, there are rate limits (default: 1,000 requests per minute), but business partners can ask for higher limits. Standardised error codes make things clear, like 400 Bad Request for invalid payloads or 401 Unauthorised for failed authentication.\\n\\nThere are also code samples in Python, JavaScript, and Java in the documentation, which makes it easier for developers from various backgrounds to integrate. Shoplite also supports webhooks, which let systems get automatic notifications when things occur, like new orders, refunds, or changes to inventory.\\n\\nShoplite gives developers the tools they need to add features to the platform, build third-party apps, and make custom experiences that fit their business needs by giving them a clear, structured, and secure API framework.\",\n",
        "        \"id\": \"doc13\"\n",
        "    },\n",
        "    {\n",
        "        \"title\": \"Document 14: Security and Privacy Policies\",\n",
        "        \"content\": \"Shoplite was developed with security priority from the start, so user data, transactions, and seller information are always safe. The platform follows important global rules, such as GDPR in Europe and CCPA in California. This gives customers control over and access to their personal data.\\n\\nShoplite uses TLS 1.3 encryption for all data transfers, SHA-256 hashing for storing passwords, and role-based access controls to limit what staff have access to. To reduce the risk of downtime, databases are encrypted when they are not being used, and backups are made every day with redundancy across multiple regions.\\n\\nShoplite does regular penetration testing and vulnerability scanning to protect itself from cyberattacks. Fraud detection systems that use machine learning keep an eye on strange login attempts, strange transaction patterns, and possible data breaches. In cases with a lot of risk, accounts may be locked for a brief period until verification is finished.\\n\\nShoplite also puts a lot of focus on privacy rights. Through their account settings, customers can ask for their data to be removed, choose not to receive advertisements, or export their personal data. A clear privacy notice explains cookies and tracking tools, and users must give their permission before their marketing preferences are turned on.\\n\\nAPI integrations must follow strict rules for compliance for developers. Access tokens don't last long and need to be refreshed, and sensitive endpoints are logged for auditing. In case of misused data or broken privacy rules, the API credentials may be suspended.\\n\\nShoplite is secure for both buyers and sellers to use because it follows regulations, has strong security measures, and makes it clear on exactly how it protects customers' privacy.\",\n",
        "        \"id\": \"doc14\"\n",
        "    },\n",
        "    {\n",
        "        \"title\": \"Document 15: Promotional Codes and Discounts\",\n",
        "        \"content\": \"Shoplite provides sellers with flexible tools for creating promotional campaigns that boost sales and attract new customers. Promotional codes can be structured as percentage discounts (e.g., 20% off), fixed-amount reductions (e.g., $10 off), or free shipping vouchers. Sellers can set rules like a minimum order value, limits on the types of products that can be bought, or a limited time for availability.\\n\\nFrom the consumer's standpoint, codes are used in a separate field during checkout, and the totals are updated immediately. Clear error messages are shown for invalid or expired codes, which keeps things clear. Customers can also save promotional codes in their account wallets to use later on.\\n\\nOn the backend, Shoplite uses a dedicated Discount Service to validate and apply promotions in real time. Each code has unique identifiers, usage limits (single-use or multi-use), and expiration dates. Sellers can generate bulk codes for loyalty programs or personalized single-use codes for targeted marketing campaigns.\\n\\nFor developers, the `/discounts/apply` API endpoint provides programmatic validation of codes, enabling integration with custom checkout systems or external CRMs. Webhooks notify sellers when promotions are redeemed, helping them measure campaign success.\\n\\nAnalytics dashboards let sellers stay updated on how well they're doing by showing them things like redemption rates, revenue impact, and customer acquisition metrics. This helps companies improve their advertising plans over time.\\n\\nShoplite makes sure that promotional codes and discounts not only boost sales but also build long-term customer loyalty by being flexible, easy to use, and having strong technical support.\",\n",
        "        \"id\": \"doc15\"\n",
        "    },\n",
        "    {\n",
        "        \"title\": \"Document 16: Analytics and Reporting Tools\",\n",
        "        \"content\": \"Shoplite has a full set of analytics tools that lets both buyers and sellers see how they are using the platform. Buyers can look at their purchase history, see how much they've spent in different categories, and get recommendations based on what they've bought in the past. Sellers, on the other hand, can see detailed reporting dashboards that show things like sales performance, product trends, customer demographics, and return rates.\\n\\nOne of the key strengths of Shoplite analytics is its real-time updating. Data is updated almost instantly after each sale, so sellers can make quick decisions based on the data. Reports can be filtered by time period, product line, or region, which makes it easy to analyse the data. Predictive analytics also show how demand changes with the seasons, which helps businesses get ready for busy times like the holidays.\\n\\nExport options are available in CSV, Excel, and JSON formats, which makes it easy to move data into third-party BI tools like Tableau or Power BI. Shoplite has dedicated API endpoints for technical users, such as `/analytics/sales` and `/analytics/customers`, which provide raw data for integrations into custom dashboards. Rate limits apply, but enterprise sellers can request expanded access.\\n\\nAll analytics data is anonymised at the customer level to protect their privacy and follow rules like GDPR. Sellers can see general information about their customers, such as their age range or where they live, but they can't see the names of individual customers unless the buyers decide to reveal them during checkout.\\n\\nShoplite's analytics system gives businesses the tools they need to improve their pricing, marketing campaigns, and inventory planning by making it easy to use, adding advanced filtering, and providing developer-friendly APIs. This makes the ecosystem stronger, which helps both sellers and buyers by making things more efficient and personalised.\",\n",
        "        \"id\": \"doc16\"\n",
        "    },\n",
        "    {\n",
        "        \"title\": \"Document 17: Fraud Prevention and Risk Management\",\n",
        "        \"content\": \"Maintaining trust across the Shoplite marketplace requires strong defenses against fraud. To achieve this, Shoplite employs a multi-layered risk management framework that protects both buyers and sellers. Suspicious activities—such as repeated failed login attempts, sudden changes in buying patterns, or large-volume orders from new accounts—are flagged in real time by AI-driven monitoring systems.\\n\\nFor buyers, safeguards include two-factor authentication on high-value purchases, automated alerts for unusual account activity, and a dispute resolution channel for fraudulent charges. Refunds in confirmed fraud cases are processed quickly, with Shoplite absorbing costs when sellers are not at fault.\\n\\nRisk scoring on incoming orders helps sellers find orders that might be fake before they ship them. For instance, a manual review may be triggered by billing and shipping addresses that don't match, a high number of refunds, or payment methods that have been flagged. If fraud is suspected, sellers should wait to fulfil the order until the issue is settled.\\n\\nShoplite's fraud detection works with both the Payment Service and the Order Service on the backend. This makes sure that problems are found early in the purchase flow. All flagged transactions are recorded with timestamps, and detailed audit trails are kept for compliance reasons. There are also APIs that let enterprise sellers get fraud alerts directly in their ERP systems.\\n\\nThe system keeps getting enhanced with regular security audits, partnerships with payment gateways, and machine learning models that learn from new types of fraud. This proactive approach lowers the risk of wasting money and boosts buyer confidence.\\n\\nShoplite makes sure that its marketplace is a safe and trusted place for every transaction by using advanced detection technology and clear resolution policies.\",\n",
        "        \"id\": \"doc17\"\n",
        "    }\n",
        "]"
      ]
    },
    {
      "cell_type": "code",
      "execution_count": null,
      "metadata": {
        "id": "NiDucXxoKl84"
      },
      "outputs": [],
      "source": [
        "# Cell 4: Assisted Prompts Configuration\n",
        "\n",
        "PROMPTS = {\n",
        "    \"base_retrieval_prompt\": {\n",
        "        \"role\": \"You are a helpful Shoplite customer service assistant.\",\n",
        "        \"goal\": \"Provide accurate and clear answers when exactly one document is retrieved.\",\n",
        "        \"context_guidelines\": [\n",
        "            \"Only respond to questions asked in English.\",\n",
        "            \"If a question is in another language, politely ask the user to ask in English.\",\n",
        "            \"Only use information from the single retrieved document.\",\n",
        "            \"Do not speculate or add outside knowledge.\",\n",
        "            \"Keep answers concise (3-5 sentences).\",\n",
        "            \"Always cite the document title used.\"\n",
        "        ],\n",
        "        \"response_format\": \"Answer: [Your response based on 1 document]\\nSources: [Single document title]\"\n",
        "    },\n",
        "\n",
        "    \"multi_doc_prompt\": {\n",
        "        \"role\": \"You are a synthesis assistant that combines information from multiple documents.\",\n",
        "        \"goal\": \"Provide answers when 2 to 4 documents are retrieved and need to be merged.\",\n",
        "        \"context_guidelines\": [\n",
        "            \"Only respond to questions asked in English.\",\n",
        "            \"If a question is in another language, politely ask the user to ask in English.\",\n",
        "            \"Integrate evidence from all relevant documents into one clear answer.\",\n",
        "            \"Explain how the documents connect and resolve conflicts.\",\n",
        "            \"Use bullet points if step-by-step guidance is needed.\",\n",
        "            \"Prioritize official policies when conflicts occur.\"\n",
        "        ],\n",
        "        \"response_format\": \"Answer: [Synthesis answer across 2-4 documents]\\nSources: [All document titles used]\"\n",
        "    },\n",
        "\n",
        "    \"no_context_refusal_prompt\": {\n",
        "        \"role\": \"You are a cautious assistant that refuses politely when no relevant documentation is found.\",\n",
        "        \"goal\": \"Prevent giving false or speculative answers if retrieval returns nothing.\",\n",
        "        \"context_guidelines\": [\n",
        "            \"Only respond to questions asked in English.\",\n",
        "            \"If a question is in another language, politely ask the user to ask in English.\",\n",
        "            \"Never invent or assume details.\",\n",
        "            \"Politely state that information on that topic is not in the Shoplite knowledge base.\",\n",
        "            \"Remind the user that your purpose is to answer questions about Shoplite.\",\n",
        "            \"Suggest asking about a relevant Shoplite topic like 'payments' or 'order tracking'.\"\n",
        "        ],\n",
        "        \"response_format\": \"Answer: [Polite refusal + suggestion to ask about Shoplite]\\nSources: none\"\n",
        "    },\n",
        "\n",
        "    \"clarification_prompt\": {\n",
        "        \"role\": \"You are a proactive assistant that seeks clarification when user queries are ambiguous.\",\n",
        "        \"goal\": \"Make sure the request is fully understood before answering.\",\n",
        "        \"context_guidelines\": [\n",
        "            \"Only respond to questions asked in English.\",\n",
        "            \"If a question is in another language, politely ask the user to ask in English.\",\n",
        "            \"Ask one clarifying question only.\",\n",
        "            \"Offer examples or options related to Shoplite to guide the user.\",\n",
        "            \"For example, if a user asks 'how do I check the status?', ask 'Are you referring to an order status or a return status on Shoplite?'\",\n",
        "            \"Wait for clarification before answering.\"\n",
        "        ],\n",
        "        \"response_format\": \"Answer: [Clarifying question for the user related to Shoplite]\\nSources: none\"\n",
        "    },\n",
        "\n",
        "    \"overflow_doc_prompt\": {\n",
        "        \"role\": \"You are an assistant that handles scenarios where more than 4 documents are retrieved.\",\n",
        "        \"goal\": \"Summarize, filter, and condense the information to avoid overwhelming the user.\",\n",
        "        \"context_guidelines\": [\n",
        "            \"Only respond to questions asked in English.\",\n",
        "            \"If a question is in another language, politely ask the user to ask in English.\",\n",
        "            \"Focus on the most relevant points across all retrieved documents.\",\n",
        "            \"Group related information together.\",\n",
        "            \"Do not list every detail; highlight key themes.\",\n",
        "            \"Cite the most important document titles only.\"\n",
        "        ],\n",
        "        \"response_format\": \"Answer: [Condensed summary from many documents]\\nSources: [Key document titles]\"\n",
        "    },\n",
        "\n",
        "    \"chitchat_prompt\": {\n",
        "        \"role\": \"You are a friendly Shoplite assistant.\",\n",
        "        \"goal\": \"Respond to greetings and social interactions politely while staying on-brand.\",\n",
        "        \"context_guidelines\": [\n",
        "            \"Only respond to messages in English.\",\n",
        "            \"If a message is in another language, politely ask the user to communicate in English.\",\n",
        "            \"Your only purpose is to answer questions about Shoplite.\",\n",
        "            \"Respond warmly to greetings, thanks, and goodbyes.\",\n",
        "            \"Do not answer off-topic questions.\",\n",
        "            \"Keep responses brief and friendly.\",\n",
        "            \"Redirect to Shoplite topics if appropriate.\"\n",
        "        ],\n",
        "        \"response_format\": \"Answer: [Friendly response]\"\n",
        "    }\n",
        "}\n",
        "\n",
        "\n",
        "# Metadata\n",
        "PROMPTS_METADATA = {\n",
        "    \"version\": \"1.0\",\n",
        "    \"date\": \"2025-09-29\",\n",
        "    \"author\": \"Charbel Moussallem\",\n",
        "    \"note\": \"RAG (and No RAG) assisted Prompts Configurations\"\n",
        "}"
      ]
    },
    {
      "cell_type": "code",
      "execution_count": 5,
      "metadata": {
        "colab": {
          "base_uri": "https://localhost:8080/",
          "height": 661,
          "referenced_widgets": [
            "e1504dacb4864bdba7b3caed9cb31b14",
            "f650ef480fef426dbe0c63e3c5e45cea",
            "7a2ac34450654b4b8591e83ff620ddfe",
            "431e281b27b5455d806e3414a7a0907e",
            "423a2a7b57714b478ae0dfbdb7467ba9",
            "e2c22ff85e4b43d888dfa8a36624dc80",
            "ed9a7fdf656346af8e057818d3acb04d",
            "8502ef651ae9476b873cd870c171e943",
            "d3c168c8651b4c1a9370cdb0eb7cac5f",
            "9eaf4b5d5ebe4000839d07198e66583a",
            "1baaddce48144b0592b38f40a9e3b3b7",
            "8b0519027512432883ed7b1df9be6590",
            "c49d399d3ba74b2d8cf1bd096ba386eb",
            "785d74a5124643818df92f98f0b8e4b8",
            "4f664cabfe6b4667a7b0d066298372d2",
            "eb2fd41696704bc39edb20c98fc39e34",
            "1be9865fb26940d8bdc5054eff6a4987",
            "b3b6fcba891e42f9b53609710bde925d",
            "279709c693054134bb37ebd8bbedb54d",
            "970186f7f0944b19bb332c38911f873b",
            "56071d3f35e44328a40ced5349a574d4",
            "c9cb70c97bf04d7cb86e4dcbff63bc20",
            "4561de48b5c24da7bba3340247b6e1c0",
            "12555116f5484ed69060f0ca49ec38d6",
            "45c5cb4ffdde4d27a6c6fb0f96905877",
            "c06f924de87c4676adf5e684912138d9",
            "011d064839bd4636b2120eb04cb83813",
            "1bf89c4d92714dc19a8d8e0fa5f07297",
            "d849e2ce4bd94db3b0d548060d24165a",
            "aa23126303fa4d1b8e87c050c47ec385",
            "42897d18bbe1403ca11ec92ed02343ad",
            "e1b1903f526c4fedb58d0402c96c88b4",
            "b50f98b33f4945d8bb146ceb6ae10e96",
            "02d358eb52264c0184b956dd09c28b5b",
            "bbb71b2e06e343a4b615bb8b0c7e1299",
            "eaeb9f70c0cb48bc8f040e1fb9bae197",
            "c507d974f84248a49147d19d91d173ed",
            "6d893b3247174f2385a99edcaa9ff477",
            "e4441b27beac4256bef92886f000c49d",
            "6fbc944ee80644c082020ec404066f98",
            "f8aef80eb37b49e986a31123c0fc70b5",
            "c6bd2b8f04324ca283a979b430c734b8",
            "7733241fa40f48b281e623499522d0b0",
            "b3be1bc5677c45aabfe6f6a841572e79",
            "dec9699173ae4384b575a47dc595ae2d",
            "9a549f0f05554e65877d4ba46c4db7ca",
            "685da347577f412eba69be4ed04b9443",
            "7f009d4845f94fe9a118a2de6c6451fe",
            "a3888b5e5f974f98acfda61d14a0ae7e",
            "d28063c08cc04dbab0d43d6130d38f78",
            "11fa9ee507c3423d99f0892f35336f21",
            "5bd6d24762a44f1a86bb24ba7406873a",
            "660e8175dd33468b88b87f46ed74bf96",
            "451d8cee34724f019f7a9d5437011697",
            "a19209a28ecd47afb63479aca000f991",
            "83f46229b9904109ac982fe5b9eded82",
            "33b3477f79524cbf899d444224ea88e0",
            "ad6af18bc769493d913101b24c088bf5",
            "c9e5db29306b4b12bbd687950cca0664",
            "9d28450075804dc19ff4dd51e3729f6c",
            "da27c136583b4b7b88d58c56ace4835b",
            "11f414a68454466ba4bc89bf3a6edf42",
            "f6b6774f8a4c4a63b65895f7b435717b",
            "fceac6c946dc4069b90b994f4c1d5b28",
            "db2e3d216af04a87b201f7d85ac427f0",
            "803b424410814364864d66e7b98d6ba9",
            "613780f5c4874b88bf23e445fe2c24ae",
            "e0fbf249cf9f4c01a431ca2cdcbd7a4e",
            "e0cf90b97e5c4caaa9e635a56774bc67",
            "7478846897bf43c39e0530024ca73dc1",
            "f2ea99c7520541399d897209d4b2e2e3",
            "82fd5b8089f84c69be7cac60557ea62e",
            "09af36bf247d43dca368012490012a8a",
            "029d3a1a1b0c4e089ad53f69877af924",
            "e8de4e2d49294fc1be78de3ffd1cf9f6",
            "1feea429834544809dfff7f0113afb15",
            "5dba584dfecb4650a957288955950e2a",
            "8613d201b1db486293f31a26c55bd30f",
            "d30ca5f1e9fa4d5c848d0268785ffc90",
            "6f7718e5d7414bbf962ac0fc414e8003",
            "d2c39aba085a4cd18fd68e57663a3391",
            "014c87c0073d4d419d52f58017c348aa",
            "f0da94c59bd04c2ba0bb40c523cd7516",
            "94a3de9ffa3e4a8484eafff9b1918dfd",
            "84e08b44f9304d289c877a60e68461b4",
            "d099af5262874d6789e070e01ba0317c",
            "d55c2cdce19641c69b34c743498cb6df",
            "762e033551974aaaa1d3de421dc614c4",
            "32900639e7304bb58b45df699674308e",
            "8a2df5d8a3624ddc88943ce08a5d2a8c",
            "959a4b00821b43ad8d8326b48f7a56b5",
            "fa7c202ebbde400bbfa8243d57366ccb",
            "3daf62ef02994f92b491575841206f20",
            "031a890513734879afea7c53239fc5ab",
            "e5ecbe4dc1484221a10102412e7d7a9e",
            "12a2db06a84f450cbb51ab9708d00819",
            "4e1b899059b24e22acf2df5b2abdbb9a",
            "e3b9a7f42f1d48d4bc74af3fa049523a",
            "f310d6c9605148b29499dc86baeffc51",
            "81ef8470cba545338787443dce106a82",
            "d01b20f38cf543948b156f75e20caa74",
            "6461d24d5cfe48ed81edce1a5effb963",
            "7b6d36f29ae04068bea9313dc254a4ea",
            "ea258a74c5824417aebd6841cb222d47",
            "0da7a7fe351943ba8dc814e5032fc52b",
            "2714b87304c54e84ab0279a31a963f0f",
            "5ea3c75ec865442e98506c9dadeca44f",
            "f1f307dc66af4edcac7327e9c551b943",
            "2e483023e12a4c17843aad1b39207f3a",
            "e0b5190e799944e1906483d8513ee62e",
            "5eab92c6aee74d6c9f880d1431747c94",
            "d33438c40af6456eb0563b195c107a35",
            "13347e5ee51e486d87f54ae7412c3a4f",
            "a65e6e0501374330a39f05367f4072bb",
            "42a0e58ffb024f0ea236970c9f9b315c",
            "0d4e2b1792324f8e96e28735970afc2c",
            "58807267b9024019bcfea7ba5df07943",
            "9bf9fc924dac4456a27b9d34b6e24174",
            "f9d5a6cf66b145daab0bade63619ee3d",
            "fe236fd08e1e446b9454db23492a151b",
            "2ef05bc8be5444bbb1019ecfebc0ad67",
            "09253634e3384d4f8f0ce13bb14cab1d",
            "85655749e1834c3398ac2a89ecc60dbe",
            "c69ea60d80b84e67822639195c1167f2",
            "680233be7f3246c68c3e67f0f15324a7",
            "0911f0cddf74443fb3cd673f909bd11b",
            "d364bb9e8aad48a381474a4dec797032",
            "6f0f8101985f45f1a088b9babb3eafbd",
            "1bdca2a7ebf24c8cb9b50baf46ed59ef",
            "e411eccc6bd240c1adb0c8256acec2b3",
            "d9941be5ff8840498cadea693398340b",
            "ada545eea932441b87fbdaad1743c049",
            "e537cff261ea4d99a0c0123ab2f005a6",
            "d19081d3aafc4e1ea4d9a2b2be19576a",
            "168458fc86d14e2ca0dc5eab94f9991d",
            "9451f58398564beaa87a445ca1a2d127",
            "69c3b180ff46466b90c704b94d25dfcb",
            "5225190c0ae648498e8185fc8654115e",
            "011a4ff05d5f4e8ab54ff52f4ba5eda6",
            "49826cd4ba384608982120849c71ac74",
            "3b9a5889cd8f44f493a8f0f4bf240f26",
            "a99a3056c3034c77aa3864a799906f69",
            "a60ebcf284834f5cb6d4b55268d74f47"
          ]
        },
        "id": "mfTLbvUveRk5",
        "outputId": "99c5228c-c972-4c2a-9571-825220a598cd"
      },
      "outputs": [
        {
          "name": "stdout",
          "output_type": "stream",
          "text": [
            "Loading model... This may take several minutes.\n",
            "Loading Qwen/Qwen2.5-7B-Instruct...\n"
          ]
        },
        {
          "name": "stderr",
          "output_type": "stream",
          "text": [
            "/usr/local/lib/python3.12/dist-packages/huggingface_hub/utils/_auth.py:94: UserWarning: \n",
            "The secret `HF_TOKEN` does not exist in your Colab secrets.\n",
            "To authenticate with the Hugging Face Hub, create a token in your settings tab (https://huggingface.co/settings/tokens), set it as secret in your Google Colab and restart your session.\n",
            "You will be able to reuse this secret in all of your notebooks.\n",
            "Please note that authentication is recommended but still optional to access public models or datasets.\n",
            "  warnings.warn(\n"
          ]
        },
        {
          "data": {
            "application/vnd.jupyter.widget-view+json": {
              "model_id": "e1504dacb4864bdba7b3caed9cb31b14",
              "version_major": 2,
              "version_minor": 0
            },
            "text/plain": [
              "tokenizer_config.json: 0.00B [00:00, ?B/s]"
            ]
          },
          "metadata": {},
          "output_type": "display_data"
        },
        {
          "data": {
            "application/vnd.jupyter.widget-view+json": {
              "model_id": "8b0519027512432883ed7b1df9be6590",
              "version_major": 2,
              "version_minor": 0
            },
            "text/plain": [
              "vocab.json: 0.00B [00:00, ?B/s]"
            ]
          },
          "metadata": {},
          "output_type": "display_data"
        },
        {
          "data": {
            "application/vnd.jupyter.widget-view+json": {
              "model_id": "4561de48b5c24da7bba3340247b6e1c0",
              "version_major": 2,
              "version_minor": 0
            },
            "text/plain": [
              "merges.txt: 0.00B [00:00, ?B/s]"
            ]
          },
          "metadata": {},
          "output_type": "display_data"
        },
        {
          "data": {
            "application/vnd.jupyter.widget-view+json": {
              "model_id": "02d358eb52264c0184b956dd09c28b5b",
              "version_major": 2,
              "version_minor": 0
            },
            "text/plain": [
              "tokenizer.json: 0.00B [00:00, ?B/s]"
            ]
          },
          "metadata": {},
          "output_type": "display_data"
        },
        {
          "data": {
            "application/vnd.jupyter.widget-view+json": {
              "model_id": "dec9699173ae4384b575a47dc595ae2d",
              "version_major": 2,
              "version_minor": 0
            },
            "text/plain": [
              "config.json:   0%|          | 0.00/663 [00:00<?, ?B/s]"
            ]
          },
          "metadata": {},
          "output_type": "display_data"
        },
        {
          "data": {
            "application/vnd.jupyter.widget-view+json": {
              "model_id": "83f46229b9904109ac982fe5b9eded82",
              "version_major": 2,
              "version_minor": 0
            },
            "text/plain": [
              "model.safetensors.index.json: 0.00B [00:00, ?B/s]"
            ]
          },
          "metadata": {},
          "output_type": "display_data"
        },
        {
          "data": {
            "application/vnd.jupyter.widget-view+json": {
              "model_id": "613780f5c4874b88bf23e445fe2c24ae",
              "version_major": 2,
              "version_minor": 0
            },
            "text/plain": [
              "Fetching 4 files:   0%|          | 0/4 [00:00<?, ?it/s]"
            ]
          },
          "metadata": {},
          "output_type": "display_data"
        },
        {
          "data": {
            "application/vnd.jupyter.widget-view+json": {
              "model_id": "8613d201b1db486293f31a26c55bd30f",
              "version_major": 2,
              "version_minor": 0
            },
            "text/plain": [
              "model-00004-of-00004.safetensors:   0%|          | 0.00/3.56G [00:00<?, ?B/s]"
            ]
          },
          "metadata": {},
          "output_type": "display_data"
        },
        {
          "data": {
            "application/vnd.jupyter.widget-view+json": {
              "model_id": "32900639e7304bb58b45df699674308e",
              "version_major": 2,
              "version_minor": 0
            },
            "text/plain": [
              "model-00001-of-00004.safetensors:   0%|          | 0.00/3.95G [00:00<?, ?B/s]"
            ]
          },
          "metadata": {},
          "output_type": "display_data"
        },
        {
          "data": {
            "application/vnd.jupyter.widget-view+json": {
              "model_id": "81ef8470cba545338787443dce106a82",
              "version_major": 2,
              "version_minor": 0
            },
            "text/plain": [
              "model-00003-of-00004.safetensors:   0%|          | 0.00/3.86G [00:00<?, ?B/s]"
            ]
          },
          "metadata": {},
          "output_type": "display_data"
        },
        {
          "data": {
            "application/vnd.jupyter.widget-view+json": {
              "model_id": "5eab92c6aee74d6c9f880d1431747c94",
              "version_major": 2,
              "version_minor": 0
            },
            "text/plain": [
              "model-00002-of-00004.safetensors:   0%|          | 0.00/3.86G [00:00<?, ?B/s]"
            ]
          },
          "metadata": {},
          "output_type": "display_data"
        },
        {
          "data": {
            "application/vnd.jupyter.widget-view+json": {
              "model_id": "09253634e3384d4f8f0ce13bb14cab1d",
              "version_major": 2,
              "version_minor": 0
            },
            "text/plain": [
              "Loading checkpoint shards:   0%|          | 0/4 [00:00<?, ?it/s]"
            ]
          },
          "metadata": {},
          "output_type": "display_data"
        },
        {
          "data": {
            "application/vnd.jupyter.widget-view+json": {
              "model_id": "e537cff261ea4d99a0c0123ab2f005a6",
              "version_major": 2,
              "version_minor": 0
            },
            "text/plain": [
              "generation_config.json:   0%|          | 0.00/243 [00:00<?, ?B/s]"
            ]
          },
          "metadata": {},
          "output_type": "display_data"
        },
        {
          "name": "stderr",
          "output_type": "stream",
          "text": [
            "Device set to use cuda:0\n"
          ]
        },
        {
          "name": "stdout",
          "output_type": "stream",
          "text": [
            "✓ Model loaded: Qwen/Qwen2.5-7B-Instruct\n",
            "✓ Device: cuda:0\n",
            "✓ Memory allocated: 5.56 GB\n"
          ]
        }
      ],
      "source": [
        "# Cell 5: LLM loading and setup\n",
        "print(\"Loading model... This may take several minutes.\")\n",
        "\n",
        "# Configure 4-bit quantization to fit in Colab GPU memory\n",
        "bnb_config = BitsAndBytesConfig(\n",
        "    load_in_4bit=True,\n",
        "    bnb_4bit_quant_type=\"nf4\",\n",
        "    bnb_4bit_compute_dtype=torch.float16,\n",
        "    bnb_4bit_use_double_quant=True,\n",
        ")\n",
        "\n",
        "# Using Qwen 2.5 7B - publicly accessible, comparable to Llama 3.1 8B\n",
        "MODEL_NAME = \"Qwen/Qwen2.5-7B-Instruct\"\n",
        "\n",
        "print(f\"Loading {MODEL_NAME}...\")\n",
        "\n",
        "tokenizer = AutoTokenizer.from_pretrained(MODEL_NAME)\n",
        "\n",
        "model = AutoModelForCausalLM.from_pretrained(\n",
        "    MODEL_NAME,\n",
        "    quantization_config=bnb_config,\n",
        "    device_map=\"auto\",\n",
        "    trust_remote_code=True\n",
        ")\n",
        "\n",
        "llm_pipeline = pipeline(\n",
        "    \"text-generation\",\n",
        "    model=model,\n",
        "    tokenizer=tokenizer\n",
        ")\n",
        "\n",
        "print(f\"✓ Model loaded: {MODEL_NAME}\")\n",
        "print(f\"✓ Device: {model.device}\")\n",
        "print(f\"✓ Memory allocated: {torch.cuda.memory_allocated()/1e9:.2f} GB\")"
      ]
    },
    {
      "cell_type": "code",
      "execution_count": 6,
      "metadata": {
        "colab": {
          "base_uri": "https://localhost:8080/",
          "height": 438,
          "referenced_widgets": [
            "0f8b67d4e9a04aee937ff914d7270948",
            "f7fcaf37e3c74701a5f4982f38dea522",
            "331922fb047443829aa4688efc6cdc12",
            "98a22e0fece1497793adb9b7a621989f",
            "ae8d7451c4694c38855064e52852696e",
            "ccb3763fc07e4073bace9981c55085be",
            "6e47206f6c6b443a89534ff50dc22796",
            "ce0eb5b382d342c4b15989db4ca05690",
            "39ee61031c9b43ba924a79357ca37c51",
            "ddbd27b29c45451099ee77a6f646b328",
            "9299652c931d4964b2d13a5b7ff49a62",
            "9fc80d45bda4474281971ce7e7525eb0",
            "3985364bfd2e465784443a8482793b80",
            "afe2ab0ea44f439ab38300a6fe5e2324",
            "db64e38c3dfb4c1a970f69e84e9dc50b",
            "9a72ed342b1d47c996d29e48c1c66a73",
            "33378b0bcebb4379bb95c7992bdc5aec",
            "9b9f70c235bb42e8b60e149872d06e66",
            "233d41b2c1a0414cb5472f4202da4635",
            "1d6849da499f40f49aeeeaa036ceb7cb",
            "6717ae7260154218b1a4ae80cc4411b0",
            "d2c31e5c280949b7a3e56b8755e1b1a8",
            "c1bb30eb6d1c4c93ba05e4af3a674973",
            "294278062376485485965722de9aaee9",
            "133e48e35269488f8298b94faf961a10",
            "4a6560bf6c3d48e49c8484c65ffb1796",
            "d763634e281e4190a6e1adcf00f2f1aa",
            "1812ba6abcf6498a8639308d1a0a1ade",
            "0c5ff378296c46b5ad6d00a012754218",
            "60946692049846b0b1ae12559205351b",
            "3426e06b71ff4e6aa4a49ed01eb1b166",
            "4f9f48a22a2d4be8bd50cf573c898880",
            "2fb7e91551ea4592b4f950c83c3f100f",
            "35831cc4b5b04d31a884acaf103da854",
            "cd5d92bfe2b94e9cb8ac4af34740c4b6",
            "962fe881729142fa959cd7276942ebb6",
            "f89892693f684669b78f18197a0f440f",
            "fb0117a890f94797aa6e8918c1a4dfa8",
            "6ed6b68241964c4fa08184ad91610c9c",
            "4dcdbe13b7bc4693941d4784cf8520ec",
            "81da77761e39476681d193834201bed5",
            "ccbb97420a7c45a3a29a770ac936e7a7",
            "9d81e036df6f4b8fa0b5d06b003ba786",
            "3e75d0f605d74d65b52e24d86c6408fb",
            "34ffdf88c8474de5bab826595488ee6b",
            "7dfd42a12e284348b03e3f596df9db5f",
            "ce416a07472c4a49a8167ba32e3f3807",
            "927b01ef48174356a74ab18cca75ceb3",
            "63a6ffb44fee4c69990f69f9d65aead4",
            "e8bcad5aec594889828e34200f8038ca",
            "855aebddc5144bc1ac90443f58214d5c",
            "629c2eff5a4f4bd1be0e10e22e3f4316",
            "920c8eaf77dd44c18b54cda67b0f7d7d",
            "8c630ef2789d4e718befaa4b10dea68f",
            "58a7dd34e7aa46faace5bc699da89ae4",
            "67cf2635e05e4f42870d469e605516ba",
            "53be34ad698b467c88dee16cb8d8c3ee",
            "7e7fe39954ba4b06bb70d7e9503ad113",
            "a90cc30b99e340c29f3fb645cc35d5c6",
            "33266dcb7f7a4c1da913519ed5128d15",
            "7947d20525be40a588d0661a604d89ef",
            "3d6054338be141b2820bdb46c250c5b2",
            "16635bec7f1442818536a80eedbda53a",
            "cba9995ee2694ef4b98ce63339e809d0",
            "ded37a9234d046da88564d419a5eb833",
            "1c6499fdf4044d24957c2fb83ab06b68",
            "a6b5a6dec62a476390c1c6d3c1c68a24",
            "e21aef8211e94e35b98c9a03ffc4b0de",
            "082d3b326bcd45d39b94a5b2d4528616",
            "fd9ef90e678e44b3bdc54050e3ae761d",
            "5465b03882cb4f57af6539df582b97c2",
            "9785c0667cd840eeb4e4cdd2544eaab4",
            "bfe6e7c294464942b2fe9abe02813ddd",
            "81ad6487afbb46d1bb3af4dc7800d8be",
            "a621a6c5dec6461e93041d5254a45992",
            "1de0e08002cc40a49a341b8d1fcea5fb",
            "d2d7db3bc242412bbb2161d5c375dc5a",
            "4762154c5f644f33b98f7b6bd60802f3",
            "5be820fcff854341b8053b67de2b2848",
            "544dfe816f2a4c5ba278e2e7b7dcad4f",
            "f4ffa3e09dad4ca68ffccf2436523da3",
            "b90b66e5edc14c30a2aedf77e2f49d35",
            "8bce59ab65db4256b6c15a94b7c6edae",
            "6a2439481e4e430aaf2a7dec27403597",
            "7d04bb5336ee4e81adbc18552c2bd899",
            "672491c56fae456ba4f2531715292530",
            "996522f862f641258107fda7d381bea7",
            "5a8623ab263343af972155801f77f59a",
            "023af095020c4212a3a5a2fe7eb98854",
            "b1a58aafe2d74227a415016c4eb3cc9b",
            "0d94c115a34b431c9f5e2796ff26ba34",
            "5a79ca87dacd41c09daeebe559c8633c",
            "9744fdebf6bd4a53af2b497587f93236",
            "1cd49821e43b4742bdd0be311f172eb6",
            "8c22e18c55f94442be3d20fe8bdf067d",
            "b5df2f9ad61e4303b67f3d02cf10be02",
            "80116aa9c79e43919261db8e5224ae8d",
            "37402ce946444895a65e36381691f41e",
            "7287f2c63b2049ea85e4183178ecd478",
            "ac99268205354ac3ab13a609bfc22ca2",
            "19219370a499477d9b433bfe46a2af03",
            "3a2b967eef4b40c8b03bc4bf180d7426",
            "427910b81bcd4d2c9855f21039258edc",
            "46bb24f1c5b7431086bd49a4fba1d5a7",
            "40fe1f5300db4cd2962a251cd5645e8d",
            "6e0e4ae3ddc24543be22de1c7fba04b8",
            "28ec52887cce4c018d009ee280fa7ec1",
            "d58adf9e398e4e85bcaf8d8bcd4dade6",
            "8a22b40ecb26481db38cce5affeb44a2",
            "5743a447f108493987d2d7105dfea4de",
            "ea1f9cb327ab4e35bd746fd84c5d6752",
            "187b4d883035435c9ba40ae546c9bce6",
            "11a410fdc15843df8ccaa398d1bbcd17",
            "305edbe910d74c4d9bb49442b884cfb5",
            "0d50a137e7164c63a9d5b9ce5576382a",
            "bb4e877a493f4a829d77ff9c7880dfee",
            "811bd54893b64d22897d7ec60437623d",
            "48ff5f69b913486bbaf65a42a3b69702",
            "c947ea76dc2944f29dc71a1b83ede4bc",
            "6facf5142e7a4029bfa67eb68b86dbb4",
            "3e0318c5ddfe4d91bd1e1aab11d49309"
          ]
        },
        "id": "J5LoRF8zmUW5",
        "outputId": "507146d3-2056-4a86-875b-7a1cb6ca7d33"
      },
      "outputs": [
        {
          "name": "stdout",
          "output_type": "stream",
          "text": [
            "Building RAG pipeline...\n",
            "Loading embedding model...\n"
          ]
        },
        {
          "data": {
            "application/vnd.jupyter.widget-view+json": {
              "model_id": "0f8b67d4e9a04aee937ff914d7270948",
              "version_major": 2,
              "version_minor": 0
            },
            "text/plain": [
              "modules.json:   0%|          | 0.00/349 [00:00<?, ?B/s]"
            ]
          },
          "metadata": {},
          "output_type": "display_data"
        },
        {
          "data": {
            "application/vnd.jupyter.widget-view+json": {
              "model_id": "9fc80d45bda4474281971ce7e7525eb0",
              "version_major": 2,
              "version_minor": 0
            },
            "text/plain": [
              "config_sentence_transformers.json:   0%|          | 0.00/116 [00:00<?, ?B/s]"
            ]
          },
          "metadata": {},
          "output_type": "display_data"
        },
        {
          "data": {
            "application/vnd.jupyter.widget-view+json": {
              "model_id": "c1bb30eb6d1c4c93ba05e4af3a674973",
              "version_major": 2,
              "version_minor": 0
            },
            "text/plain": [
              "README.md: 0.00B [00:00, ?B/s]"
            ]
          },
          "metadata": {},
          "output_type": "display_data"
        },
        {
          "data": {
            "application/vnd.jupyter.widget-view+json": {
              "model_id": "35831cc4b5b04d31a884acaf103da854",
              "version_major": 2,
              "version_minor": 0
            },
            "text/plain": [
              "sentence_bert_config.json:   0%|          | 0.00/53.0 [00:00<?, ?B/s]"
            ]
          },
          "metadata": {},
          "output_type": "display_data"
        },
        {
          "data": {
            "application/vnd.jupyter.widget-view+json": {
              "model_id": "34ffdf88c8474de5bab826595488ee6b",
              "version_major": 2,
              "version_minor": 0
            },
            "text/plain": [
              "config.json:   0%|          | 0.00/612 [00:00<?, ?B/s]"
            ]
          },
          "metadata": {},
          "output_type": "display_data"
        },
        {
          "data": {
            "application/vnd.jupyter.widget-view+json": {
              "model_id": "67cf2635e05e4f42870d469e605516ba",
              "version_major": 2,
              "version_minor": 0
            },
            "text/plain": [
              "model.safetensors:   0%|          | 0.00/90.9M [00:00<?, ?B/s]"
            ]
          },
          "metadata": {},
          "output_type": "display_data"
        },
        {
          "data": {
            "application/vnd.jupyter.widget-view+json": {
              "model_id": "a6b5a6dec62a476390c1c6d3c1c68a24",
              "version_major": 2,
              "version_minor": 0
            },
            "text/plain": [
              "tokenizer_config.json:   0%|          | 0.00/350 [00:00<?, ?B/s]"
            ]
          },
          "metadata": {},
          "output_type": "display_data"
        },
        {
          "data": {
            "application/vnd.jupyter.widget-view+json": {
              "model_id": "4762154c5f644f33b98f7b6bd60802f3",
              "version_major": 2,
              "version_minor": 0
            },
            "text/plain": [
              "vocab.txt: 0.00B [00:00, ?B/s]"
            ]
          },
          "metadata": {},
          "output_type": "display_data"
        },
        {
          "data": {
            "application/vnd.jupyter.widget-view+json": {
              "model_id": "023af095020c4212a3a5a2fe7eb98854",
              "version_major": 2,
              "version_minor": 0
            },
            "text/plain": [
              "tokenizer.json: 0.00B [00:00, ?B/s]"
            ]
          },
          "metadata": {},
          "output_type": "display_data"
        },
        {
          "data": {
            "application/vnd.jupyter.widget-view+json": {
              "model_id": "ac99268205354ac3ab13a609bfc22ca2",
              "version_major": 2,
              "version_minor": 0
            },
            "text/plain": [
              "special_tokens_map.json:   0%|          | 0.00/112 [00:00<?, ?B/s]"
            ]
          },
          "metadata": {},
          "output_type": "display_data"
        },
        {
          "data": {
            "application/vnd.jupyter.widget-view+json": {
              "model_id": "ea1f9cb327ab4e35bd746fd84c5d6752",
              "version_major": 2,
              "version_minor": 0
            },
            "text/plain": [
              "config.json:   0%|          | 0.00/190 [00:00<?, ?B/s]"
            ]
          },
          "metadata": {},
          "output_type": "display_data"
        },
        {
          "name": "stdout",
          "output_type": "stream",
          "text": [
            "✓ FAISS index ready: 17 documents indexed\n",
            "✓ RAG pipeline ready!\n"
          ]
        }
      ],
      "source": [
        "# Cell 6: RAG pipeline implementation\n",
        "\n",
        "# --- Global RAG components ---\n",
        "embedding_model = None\n",
        "faiss_index = None\n",
        "doc_id_map = {}\n",
        "\n",
        "def build_rag_pipeline():\n",
        "    \"\"\"Initializes the embedding model and builds the FAISS index.\"\"\"\n",
        "    global embedding_model, faiss_index, doc_id_map\n",
        "    print(\"Building RAG pipeline...\")\n",
        "\n",
        "    # 1. Load Embedding Model\n",
        "    print(\"Loading embedding model...\")\n",
        "    embedding_model = SentenceTransformer('all-MiniLM-L6-v2', device='cuda')\n",
        "\n",
        "    # 2. Create Embeddings\n",
        "    doc_contents = [doc['content'] for doc in KNOWLEDGE_BASE]\n",
        "    embeddings = embedding_model.encode(doc_contents, convert_to_tensor=True)\n",
        "\n",
        "    # 3. Build FAISS Index\n",
        "    embedding_dim = embeddings.shape[1]\n",
        "    faiss_index = faiss.IndexFlatL2(embedding_dim)\n",
        "    faiss_index.add(embeddings.cpu().numpy())\n",
        "\n",
        "    # 4. Create a mapping from index ID to document\n",
        "    for i, doc in enumerate(KNOWLEDGE_BASE):\n",
        "        doc_id_map[i] = doc\n",
        "\n",
        "    print(f\"✓ FAISS index ready: {faiss_index.ntotal} documents indexed\")\n",
        "    print(\"✓ RAG pipeline ready!\")\n",
        "\n",
        "# In Cell 6, replace the old retrieve_docs with this NEW version\n",
        "def retrieve_docs(query: str, k: int = 4) -> List[Dict[str, Any]]:\n",
        "    \"\"\"\n",
        "    Retrieves the top-k most relevant documents for a given query,\n",
        "    but returns an empty list if no document meets the relevance threshold.\n",
        "    \"\"\"\n",
        "    query_embedding = embedding_model.encode([query], convert_to_tensor=True)\n",
        "    distances, indices = faiss_index.search(query_embedding.cpu().numpy(), k)\n",
        "\n",
        "    # If no documents are found at all, return empty list\n",
        "    if len(indices[0]) == 0:\n",
        "        return []\n",
        "\n",
        "    # This is the key change: Check the distance of the BEST match.\n",
        "    # If it's too high (meaning not very similar), consider it irrelevant\n",
        "    # and return nothing. This prevents feeding bad context to the LLM.\n",
        "    RELEVANCE_THRESHOLD = 1.0  # L2 distance threshold; lower is stricter.\n",
        "\n",
        "    if distances[0][0] > RELEVANCE_THRESHOLD:\n",
        "        print(f\"⚠️ Top document distance ({distances[0][0]:.2f}) exceeds threshold. No relevant context found.\")\n",
        "        return []\n",
        "\n",
        "    # Only return documents that are within the threshold\n",
        "    relevant_indices = [idx for idx, dist in zip(indices[0], distances[0]) if dist < RELEVANCE_THRESHOLD]\n",
        "    return [doc_id_map[i] for i in relevant_indices]\n",
        "\n",
        "# In Cell 6, make sure format_prompt is this ORIGINAL version\n",
        "def format_prompt(query: str, retrieved_docs: List[Dict[str, Any]]) -> str:\n",
        "    \"\"\"Selects and formats the appropriate prompt based on retrieval results.\"\"\"\n",
        "    num_docs = len(retrieved_docs)\n",
        "\n",
        "    if num_docs == 0:\n",
        "        prompt_config = PROMPTS[\"no_context_refusal_prompt\"]\n",
        "        context_str = \"No relevant documents found.\"\n",
        "    elif num_docs == 1:\n",
        "        prompt_config = PROMPTS[\"base_retrieval_prompt\"]\n",
        "    elif 2 <= num_docs <= 4:\n",
        "        prompt_config = PROMPTS[\"multi_doc_prompt\"]\n",
        "    else: # num_docs > 4\n",
        "        prompt_config = PROMPTS[\"overflow_doc_prompt\"]\n",
        "\n",
        "    # Build context string from documents\n",
        "    if num_docs > 0:\n",
        "        context_str = \"\\\\n\\\\n---\\\\n\\\\n\".join(\n",
        "            [f\"Document Title: {doc['title']}\\\\nContent: {doc['content']}\" for doc in retrieved_docs]\n",
        "        )\n",
        "\n",
        "    guidelines_str = \"\\\\n\".join([f\"- {g}\" for g in prompt_config['context_guidelines']])\n",
        "\n",
        "    final_prompt = f\"\"\"\n",
        "<|im_start|>system\n",
        "{prompt_config['role']}\n",
        "Goal: {prompt_config['goal']}\n",
        "\n",
        "Guidelines:\n",
        "{guidelines_str}\n",
        "\n",
        "Response Format:\n",
        "{prompt_config['response_format']}\n",
        "<|im_end|>\n",
        "<|im_start|>user\n",
        "CONTEXT:\n",
        "{context_str}\n",
        "\n",
        "QUESTION:\n",
        "{query}\n",
        "<|im_end|>\n",
        "<|im_start|>assistant\n",
        "\"\"\"\n",
        "    return final_prompt.strip()\n",
        "\n",
        "\n",
        "def generate_response(prompt: str) -> str:\n",
        "    \"\"\"Generates a response from the LLM using the formatted prompt.\"\"\"\n",
        "    response = llm_pipeline(\n",
        "        prompt,\n",
        "        max_new_tokens=512,\n",
        "        do_sample=True,\n",
        "        temperature=0.7,\n",
        "        top_p=0.95,\n",
        "        return_full_text=False\n",
        "    )\n",
        "    return response[0]['generated_text'].strip()\n",
        "\n",
        "\n",
        "# Initialize the RAG pipeline on startup\n",
        "build_rag_pipeline()"
      ]
    },
    {
      "cell_type": "code",
      "execution_count": 12,
      "metadata": {
        "id": "LYgqtLHMm3Ks"
      },
      "outputs": [],
      "source": [
        "# Cell 7: Flask API setup (with Query Refinement)\n",
        "from flask import Flask, request, jsonify\n",
        "from typing import List, Dict, Any\n",
        "\n",
        "# --- Helper Functions (Copied from Cell 6 to make this cell self-contained) ---\n",
        "\n",
        "def build_prompt(prompt_key: str, context: str = \"\", query: str = \"\") -> str:\n",
        "    if prompt_key not in PROMPTS: raise ValueError(f\"Invalid prompt key: {prompt_key}\")\n",
        "    prompt_config = PROMPTS[prompt_key]\n",
        "    guidelines_str = \"\\n\".join([f\"- {g}\" for g in prompt_config['context_guidelines']])\n",
        "    prompt = f\"\"\"<|im_start|>system\n",
        "{prompt_config['role']}\n",
        "Goal: {prompt_config['goal']}\n",
        "Guidelines:\n",
        "{guidelines_str}\n",
        "Response Format:\n",
        "{prompt_config['response_format']}\n",
        "<|im_end|>\n",
        "<|im_start|>user\"\"\"\n",
        "    if context: prompt += f\"\\nCONTEXT:\\n{context}\\n\"\n",
        "    if query: prompt += f\"\\nQUESTION:\\n{query}\"\n",
        "    else: prompt += f\"\\n{context}\"\n",
        "    prompt += \"\\n<|im_end|>\\n<|im_start|>assistant\\n\"\n",
        "    return prompt.strip()\n",
        "\n",
        "def retrieve_docs(query: str, k: int = 4) -> List[Dict[str, Any]]:\n",
        "    query_embedding = embedding_model.encode([query], convert_to_tensor=True)\n",
        "    distances, indices = faiss_index.search(query_embedding.cpu().numpy(), k)\n",
        "    if len(indices[0]) == 0: return []\n",
        "    RELEVANCE_THRESHOLD = 1.0\n",
        "    if distances[0][0] > RELEVANCE_THRESHOLD:\n",
        "        print(f\"⚠️ Top document distance ({distances[0][0]:.2f}) exceeds threshold. No relevant context found.\")\n",
        "        return []\n",
        "    relevant_indices = [idx for idx, dist in zip(indices[0], distances[0]) if dist < RELEVANCE_THRESHOLD]\n",
        "    return [doc_id_map[i] for i in relevant_indices]\n",
        "\n",
        "def format_prompt(query: str, retrieved_docs: List[Dict[str, Any]]) -> str:\n",
        "    num_docs = len(retrieved_docs)\n",
        "    if num_docs == 0: prompt_key, context_str = \"no_context_refusal_prompt\", \"No relevant documents found.\"\n",
        "    elif num_docs == 1: prompt_key, context_str = \"base_retrieval_prompt\", f\"Document Title: {retrieved_docs[0]['title']}\\nContent: {retrieved_docs[0]['content']}\"\n",
        "    else:\n",
        "        prompt_key = \"multi_doc_prompt\" if 2 <= num_docs <= 4 else \"overflow_doc_prompt\"\n",
        "        context_str = \"\\n\\n---\\n\\n\".join([f\"Document Title: {doc['title']}\\nContent: {doc['content']}\" for doc in retrieved_docs])\n",
        "    return build_prompt(prompt_key, context=context_str, query=query)\n",
        "\n",
        "def generate_response(prompt: str) -> str:\n",
        "    response = llm_pipeline(prompt, max_new_tokens=512, do_sample=True, temperature=0.7, top_p=0.95, return_full_text=False)\n",
        "    return response[0]['generated_text'].strip()\n",
        "\n",
        "def calculate_confidence(query: str, retrieved_docs: List[Dict[str, Any]]) -> tuple:\n",
        "    if len(retrieved_docs) == 0: return (\"Low\", 0.0)\n",
        "    query_embedding = embedding_model.encode([query], convert_to_tensor=True)\n",
        "    similarities = [torch.nn.functional.cosine_similarity(query_embedding, embedding_model.encode([doc['content']], convert_to_tensor=True), dim=1).item() for doc in retrieved_docs]\n",
        "    avg_similarity = sum(similarities) / len(similarities)\n",
        "    normalized_score = max(0.0, min(1.0, (avg_similarity - 0.2) / 0.8))\n",
        "    doc_count = len(retrieved_docs)\n",
        "    doc_factor = 1.0 if 2 <= doc_count <= 3 else (0.9 if doc_count == 1 else 0.85)\n",
        "    final_score = normalized_score * doc_factor\n",
        "    label = \"High\" if final_score >= 0.5 else (\"Medium\" if final_score >= 0.3 else \"Low\")\n",
        "    return (label, final_score)\n",
        "\n",
        "# --- Flask App Definition ---\n",
        "app = Flask(__name__)\n",
        "\n",
        "@app.route(\"/health\")\n",
        "def health():\n",
        "    return jsonify({\"status\": \"ok\", \"model\": MODEL_NAME}), 200\n",
        "\n",
        "@app.route(\"/ping\", methods=[\"POST\"])\n",
        "def ping():\n",
        "    data = request.get_json()\n",
        "    if not data or \"query\" not in data: return jsonify({\"error\": \"Missing 'query' in request body\"}), 400\n",
        "    query = data[\"query\"]\n",
        "    prompt = build_prompt(\"chitchat_prompt\", context=query)\n",
        "    try:\n",
        "        response_text = generate_response(prompt)\n",
        "        if \"Answer:\" in response_text: response_text = response_text.split(\"Answer:\")[1].strip()\n",
        "        return jsonify({\"response\": response_text}), 200\n",
        "    except Exception as e:\n",
        "        return jsonify({\"error\": f\"Model inference failed: {str(e)}\"}), 500\n",
        "\n",
        "@app.route(\"/chat\", methods=[\"POST\"])\n",
        "def chat():\n",
        "    data = request.get_json()\n",
        "    if not data or \"query\" not in data: return jsonify({\"error\": \"Missing 'query' in request body\"}), 400\n",
        "    query = data[\"query\"]\n",
        "\n",
        "    # =======================================================\n",
        "    # ==  THIS NEW SNIPPET IS FOR QUERY REFINING  ==\n",
        "    # =======================================================\n",
        "    if \"shoplite\" not in query.lower() and len(query.split()) > 2:\n",
        "        refined_query = query + \" on shoplite\"\n",
        "        print(f\"INFO: Query refined to: '{refined_query}'\") # Added for visibility\n",
        "        query = refined_query\n",
        "    # =======================================================\n",
        "\n",
        "    try:\n",
        "        retrieved_docs = retrieve_docs(query)\n",
        "        confidence_label, _ = calculate_confidence(query, retrieved_docs)\n",
        "        prompt = format_prompt(query, retrieved_docs)\n",
        "        response_text = generate_response(prompt)\n",
        "        parts = response_text.split(\"Sources:\")\n",
        "        answer = parts[0].replace(\"Answer:\", \"\").strip()\n",
        "        sources = parts[1].strip() if len(parts) > 1 else \"none\"\n",
        "        return jsonify({\"response\": answer, \"sources\": sources, \"confidence\": confidence_label}), 200\n",
        "    except Exception as e:\n",
        "        return jsonify({\"error\": f\"RAG pipeline failed: {str(e)}\"}), 500"
      ]
    },
    {
      "cell_type": "code",
      "execution_count": 14,
      "metadata": {
        "colab": {
          "base_uri": "https://localhost:8080/"
        },
        "id": "8oRo6HQiq_jq",
        "outputId": "f128e4ad-e3a6-43be-e4e0-12028020c617"
      },
      "outputs": [
        {
          "name": "stdout",
          "output_type": "stream",
          "text": [
            " * Serving Flask app '__main__'\n",
            " * Debug mode: off\n"
          ]
        },
        {
          "name": "stderr",
          "output_type": "stream",
          "text": [
            "INFO:werkzeug:\u001b[31m\u001b[1mWARNING: This is a development server. Do not use it in a production deployment. Use a production WSGI server instead.\u001b[0m\n",
            " * Running on all addresses (0.0.0.0)\n",
            " * Running on http://127.0.0.1:5001\n",
            " * Running on http://172.28.0.12:5001\n",
            "INFO:werkzeug:\u001b[33mPress CTRL+C to quit\u001b[0m\n"
          ]
        },
        {
          "name": "stdout",
          "output_type": "stream",
          "text": [
            "============================================================\n",
            "NGROK SETUP - Expose Flask API to external access\n",
            "============================================================\n",
            "Enter your ngrok authtoken (input hidden): ··········\n",
            "\n",
            "✓ ngrok tunnel established!\n",
            "📡 Public URL: NgrokTunnel: \"https://georgine-undecrepit-sondra.ngrok-free.dev\" -> \"http://localhost:5001\"\n",
            "\n",
            "Your API is now accessible at:\n",
            "  • Health: NgrokTunnel: \"https://georgine-undecrepit-sondra.ngrok-free.dev\" -> \"http://localhost:5001\"/health\n",
            "  • Ping:   NgrokTunnel: \"https://georgine-undecrepit-sondra.ngrok-free.dev\" -> \"http://localhost:5001\"/ping\n",
            "  • Chat:   NgrokTunnel: \"https://georgine-undecrepit-sondra.ngrok-free.dev\" -> \"http://localhost:5001\"/chat\n",
            "\n",
            "IMPORTANT: Leave this cell running to maintain the tunnel.\n"
          ]
        }
      ],
      "source": [
        "# Cell 8: ngrok token input and tunnel creation\n",
        "\n",
        "def run_flask_app():\n",
        "    # use_reloader=False is important for notebook environments\n",
        "    app.run(host=\"0.0.0.0\", port=5001, use_reloader=False)\n",
        "\n",
        "# Start Flask in a background thread\n",
        "flask_thread = threading.Thread(target=run_flask_app, daemon=True)\n",
        "flask_thread.start()\n",
        "time.sleep(3) # Give the server a moment to start\n",
        "\n",
        "# ngrok Tunnel Creation\n",
        "print(\"=\" * 60)\n",
        "print(\"NGROK SETUP - Expose Flask API to external access\")\n",
        "print(\"=\" * 60)\n",
        "try:\n",
        "    ngrok_token = getpass(\"Enter your ngrok authtoken (input hidden): \")\n",
        "    ngrok.set_auth_token(ngrok_token)\n",
        "    public_url = ngrok.connect(5001)\n",
        "    print(f\"\\n✓ ngrok tunnel established!\")\n",
        "    print(f\"📡 Public URL: {public_url}\")\n",
        "    print(\"\\nYour API is now accessible at:\")\n",
        "    print(f\"  • Health: {public_url}/health\")\n",
        "    print(f\"  • Ping:   {public_url}/ping\")\n",
        "    print(f\"  • Chat:   {public_url}/chat\")\n",
        "    print(\"\\nIMPORTANT: Leave this cell running to maintain the tunnel.\")\n",
        "except Exception as e:\n",
        "    print(f\"\\n❌ An error occurred during ngrok setup: {e}\")"
      ]
    },
    {
      "cell_type": "code",
      "execution_count": 13,
      "metadata": {
        "colab": {
          "base_uri": "https://localhost:8080/"
        },
        "id": "3fRYKWO8rwVV",
        "outputId": "8ba77b8f-73dc-4eb8-842d-b47320e98c65"
      },
      "outputs": [
        {
          "name": "stdout",
          "output_type": "stream",
          "text": [
            "Please paste your public ngrok URL here: https://georgine-undecrepit-sondra.ngrok-free.dev\n",
            "======================================================================\n",
            "Testing API at: https://georgine-undecrepit-sondra.ngrok-free.dev\n",
            "======================================================================\n",
            "\n",
            "[1/5] Testing /health endpoint...\n"
          ]
        },
        {
          "name": "stderr",
          "output_type": "stream",
          "text": [
            "INFO:werkzeug:127.0.0.1 - - [02/Oct/2025 22:24:05] \"GET /health HTTP/1.1\" 200 -\n"
          ]
        },
        {
          "name": "stdout",
          "output_type": "stream",
          "text": [
            "✅ Health Check PASSED\n",
            "----------------------------------------------------------------------\n",
            "\n",
            "[2/5] Testing /ping - Chitchat Handling...\n",
            "    Query: 'Hello!'\n"
          ]
        },
        {
          "name": "stderr",
          "output_type": "stream",
          "text": [
            "INFO:werkzeug:127.0.0.1 - - [02/Oct/2025 22:24:08] \"POST /ping HTTP/1.1\" 200 -\n"
          ]
        },
        {
          "name": "stdout",
          "output_type": "stream",
          "text": [
            "✅ Chitchat Query PASSED\n",
            "    Answer: : Hello there! How can I assist you with your shopping needs today at Shoplite?\n",
            "----------------------------------------------------------------------\n",
            "\n",
            "[3/5] Testing /chat - Single Document Retrieval...\n",
            "    Query: 'What filters can I use to refine a product search?'\n"
          ]
        },
        {
          "name": "stderr",
          "output_type": "stream",
          "text": [
            "INFO:werkzeug:127.0.0.1 - - [02/Oct/2025 22:24:15] \"POST /chat HTTP/1.1\" 200 -\n"
          ]
        },
        {
          "name": "stdout",
          "output_type": "stream",
          "text": [
            "✅ Single-Doc Query PASSED\n",
            "    Confidence: Medium\n",
            "----------------------------------------------------------------------\n",
            "\n",
            "[4/5] Testing /chat - Multi-Document Synthesis...\n",
            "    Query: 'What analytics tools and fee structures help sellers optimize performance?'\n"
          ]
        },
        {
          "name": "stderr",
          "output_type": "stream",
          "text": [
            "INFO:werkzeug:127.0.0.1 - - [02/Oct/2025 22:24:38] \"POST /chat HTTP/1.1\" 200 -\n"
          ]
        },
        {
          "name": "stdout",
          "output_type": "stream",
          "text": [
            "✅ Multi-Doc Query PASSED\n",
            "    Confidence: High\n",
            "----------------------------------------------------------------------\n",
            "\n",
            "[5/5] Testing /chat - Off-Topic Query Handling...\n",
            "    Query: 'What is Shoplite's headquarters address?'\n",
            "⚠️ Top document distance (1.10) exceeds threshold. No relevant context found.\n"
          ]
        },
        {
          "name": "stderr",
          "output_type": "stream",
          "text": [
            "INFO:werkzeug:127.0.0.1 - - [02/Oct/2025 22:24:43] \"POST /chat HTTP/1.1\" 200 -\n"
          ]
        },
        {
          "name": "stdout",
          "output_type": "stream",
          "text": [
            "✅ Off-Topic Query PASSED\n",
            "    Confidence: Low\n",
            "----------------------------------------------------------------------\n",
            "\n",
            "🎉 All tests completed!\n",
            "======================================================================\n"
          ]
        }
      ],
      "source": [
        "# Cell 9: API Testing and Validation (Prints Query and Confidence)\n",
        "\n",
        "NGROK_URL = input(\"Please paste your public ngrok URL here: \").strip()\n",
        "\n",
        "if not NGROK_URL:\n",
        "    print(\"\\n❌ No URL provided. Please restart and enter the ngrok URL.\")\n",
        "else:\n",
        "    print(\"=\" * 70)\n",
        "    print(f\"Testing API at: {NGROK_URL}\")\n",
        "    print(\"=\" * 70)\n",
        "    try:\n",
        "        # Test 1: Health Check\n",
        "        print(\"\\n[1/5] Testing /health endpoint...\")\n",
        "        response = requests.get(f\"{NGROK_URL}/health\", timeout=10)\n",
        "        if response.status_code == 200: print(\"✅ Health Check PASSED\")\n",
        "        else: print(f\"❌ Health Check FAILED (Status: {response.status_code})\")\n",
        "        print(\"-\" * 70)\n",
        "\n",
        "        # Test 2: Chitchat via /ping\n",
        "        print(\"\\n[2/5] Testing /ping - Chitchat Handling...\")\n",
        "        query = \"Hello!\"\n",
        "        print(f\"    Query: '{query}'\")\n",
        "        response = requests.post(f\"{NGROK_URL}/ping\", json={\"query\": query}, timeout=120)\n",
        "        if response.status_code == 200:\n",
        "            print(\"✅ Chitchat Query PASSED\")\n",
        "            print(f\"    Answer: {response.json().get('response', 'N/A')}\")\n",
        "        else:\n",
        "            print(f\"❌ Chitchat Query FAILED (Status: {response.status_code})\")\n",
        "        print(\"-\" * 70)\n",
        "\n",
        "        # Test 3: Single-Document RAG Query\n",
        "        print(\"\\n[3/5] Testing /chat - Single Document Retrieval...\")\n",
        "        query = \"What filters can I use to refine a product search?\"\n",
        "        print(f\"    Query: '{query}'\")\n",
        "        response = requests.post(f\"{NGROK_URL}/chat\", json={\"query\": query}, timeout=120)\n",
        "        if response.status_code == 200:\n",
        "            data = response.json()\n",
        "            print(\"✅ Single-Doc Query PASSED\")\n",
        "            print(f\"    Confidence: {data.get('confidence', 'N/A')}\")\n",
        "        else:\n",
        "            print(f\"❌ Single-Doc Query FAILED (Status: {response.status_code})\")\n",
        "        print(\"-\" * 70)\n",
        "\n",
        "        # Test 4: Multi-Document RAG Query\n",
        "        print(\"\\n[4/5] Testing /chat - Multi-Document Synthesis...\")\n",
        "        query = \"What analytics tools and fee structures help sellers optimize performance?\"\n",
        "        print(f\"    Query: '{query}'\")\n",
        "        response = requests.post(f\"{NGROK_URL}/chat\", json={\"query\": query}, timeout=120)\n",
        "        if response.status_code == 200:\n",
        "            data = response.json()\n",
        "            print(\"✅ Multi-Doc Query PASSED\")\n",
        "            print(f\"    Confidence: {data.get('confidence', 'N/A')}\")\n",
        "        else:\n",
        "            print(f\"❌ Multi-Doc Query FAILED (Status: {response.status_code})\")\n",
        "        print(\"-\" * 70)\n",
        "\n",
        "        # Test 5: Edge Case - Off-Topic Query\n",
        "        print(\"\\n[5/5] Testing /chat - Off-Topic Query Handling...\")\n",
        "        query = \"What is Shoplite's headquarters address?\"\n",
        "        print(f\"    Query: '{query}'\")\n",
        "        response = requests.post(f\"{NGROK_URL}/chat\", json={\"query\": query}, timeout=120)\n",
        "        if response.status_code == 200:\n",
        "            data = response.json()\n",
        "            print(\"✅ Off-Topic Query PASSED\")\n",
        "            print(f\"    Confidence: {data.get('confidence', 'N/A')}\")\n",
        "        else:\n",
        "            print(f\"❌ Off-Topic Query FAILED (Status: {response.status_code})\")\n",
        "        print(\"-\" * 70)\n",
        "\n",
        "        print(\"\\n🎉 All tests completed!\")\n",
        "        print(\"=\" * 70)\n",
        "\n",
        "    except requests.exceptions.RequestException as e:\n",
        "        print(f\"\\n❌ Connection error: {e}\")"
      ]
    }
  ],
  "metadata": {
    "accelerator": "GPU",
    "colab": {
      "gpuType": "T4",
      "provenance": []
    },
    "kernelspec": {
      "display_name": "Python 3",
      "name": "python3"
    },
    "language_info": {
      "name": "python"
    }
  },
  "nbformat": 4,
  "nbformat_minor": 0
}
